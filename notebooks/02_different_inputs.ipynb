{
 "cells": [
  {
   "cell_type": "code",
   "execution_count": 18,
   "metadata": {},
   "outputs": [],
   "source": [
    "from chunkyp import pipe, p"
   ]
  },
  {
   "cell_type": "markdown",
   "metadata": {},
   "source": [
    "## pandas"
   ]
  },
  {
   "cell_type": "code",
   "execution_count": 33,
   "metadata": {},
   "outputs": [],
   "source": [
    "import pandas as pd"
   ]
  },
  {
   "cell_type": "code",
   "execution_count": 34,
   "metadata": {},
   "outputs": [
    {
     "data": {
      "text/html": [
       "<div>\n",
       "<style scoped>\n",
       "    .dataframe tbody tr th:only-of-type {\n",
       "        vertical-align: middle;\n",
       "    }\n",
       "\n",
       "    .dataframe tbody tr th {\n",
       "        vertical-align: top;\n",
       "    }\n",
       "\n",
       "    .dataframe thead th {\n",
       "        text-align: right;\n",
       "    }\n",
       "</style>\n",
       "<table border=\"1\" class=\"dataframe\">\n",
       "  <thead>\n",
       "    <tr style=\"text-align: right;\">\n",
       "      <th></th>\n",
       "      <th>headline</th>\n",
       "      <th>source</th>\n",
       "      <th>nwords</th>\n",
       "      <th>date</th>\n",
       "    </tr>\n",
       "  </thead>\n",
       "  <tbody>\n",
       "    <tr>\n",
       "      <th>0</th>\n",
       "      <td>Web ads for junk food could be banned in the UK</td>\n",
       "      <td>Guardian</td>\n",
       "      <td>11</td>\n",
       "      <td>NaN</td>\n",
       "    </tr>\n",
       "    <tr>\n",
       "      <th>1</th>\n",
       "      <td>The Olympics will be delayed</td>\n",
       "      <td>Guardian</td>\n",
       "      <td>5</td>\n",
       "      <td>NaN</td>\n",
       "    </tr>\n",
       "    <tr>\n",
       "      <th>2</th>\n",
       "      <td>Usability of Footnotes</td>\n",
       "      <td>https://news.ycombinator.com/item?id=23964200</td>\n",
       "      <td>10</td>\n",
       "      <td>2020-07-28</td>\n",
       "    </tr>\n",
       "  </tbody>\n",
       "</table>\n",
       "</div>"
      ],
      "text/plain": [
       "                                          headline  \\\n",
       "0  Web ads for junk food could be banned in the UK   \n",
       "1                     The Olympics will be delayed   \n",
       "2                           Usability of Footnotes   \n",
       "\n",
       "                                          source  nwords        date  \n",
       "0                                       Guardian      11         NaN  \n",
       "1                                       Guardian       5         NaN  \n",
       "2  https://news.ycombinator.com/item?id=23964200      10  2020-07-28  "
      ]
     },
     "execution_count": 34,
     "metadata": {},
     "output_type": "execute_result"
    }
   ],
   "source": [
    "df = pd.read_csv('dataframe.csv')\n",
    "df.head(3)"
   ]
  },
  {
   "cell_type": "code",
   "execution_count": 35,
   "metadata": {},
   "outputs": [
    {
     "data": {
      "text/html": [
       "<div>\n",
       "<style scoped>\n",
       "    .dataframe tbody tr th:only-of-type {\n",
       "        vertical-align: middle;\n",
       "    }\n",
       "\n",
       "    .dataframe tbody tr th {\n",
       "        vertical-align: top;\n",
       "    }\n",
       "\n",
       "    .dataframe thead th {\n",
       "        text-align: right;\n",
       "    }\n",
       "</style>\n",
       "<table border=\"1\" class=\"dataframe\">\n",
       "  <thead>\n",
       "    <tr style=\"text-align: right;\">\n",
       "      <th></th>\n",
       "      <th>headline</th>\n",
       "      <th>source</th>\n",
       "      <th>nwords</th>\n",
       "      <th>date</th>\n",
       "      <th>lowercased_headline</th>\n",
       "      <th>nwords_correct</th>\n",
       "    </tr>\n",
       "  </thead>\n",
       "  <tbody>\n",
       "    <tr>\n",
       "      <th>0</th>\n",
       "      <td>web ads for junk food could be banned in the uk</td>\n",
       "      <td>Guardian</td>\n",
       "      <td>11</td>\n",
       "      <td>NaN</td>\n",
       "      <td>WEB ADS FOR JUNK FOOD COULD BE BANNED IN THE UK</td>\n",
       "      <td>True</td>\n",
       "    </tr>\n",
       "    <tr>\n",
       "      <th>1</th>\n",
       "      <td>the olympics will be delayed</td>\n",
       "      <td>Guardian</td>\n",
       "      <td>5</td>\n",
       "      <td>NaN</td>\n",
       "      <td>THE OLYMPICS WILL BE DELAYED</td>\n",
       "      <td>True</td>\n",
       "    </tr>\n",
       "    <tr>\n",
       "      <th>2</th>\n",
       "      <td>usability of footnotes</td>\n",
       "      <td>https://news.ycombinator.com/item?id=23964200</td>\n",
       "      <td>10</td>\n",
       "      <td>2020-07-28</td>\n",
       "      <td>USABILITY OF FOOTNOTES</td>\n",
       "      <td>False</td>\n",
       "    </tr>\n",
       "  </tbody>\n",
       "</table>\n",
       "</div>"
      ],
      "text/plain": [
       "                                          headline  \\\n",
       "0  web ads for junk food could be banned in the uk   \n",
       "1                     the olympics will be delayed   \n",
       "2                           usability of footnotes   \n",
       "\n",
       "                                          source  nwords        date  \\\n",
       "0                                       Guardian      11         NaN   \n",
       "1                                       Guardian       5         NaN   \n",
       "2  https://news.ycombinator.com/item?id=23964200      10  2020-07-28   \n",
       "\n",
       "                               lowercased_headline  nwords_correct  \n",
       "0  WEB ADS FOR JUNK FOOD COULD BE BANNED IN THE UK            True  \n",
       "1                     THE OLYMPICS WILL BE DELAYED            True  \n",
       "2                           USABILITY OF FOOTNOTES           False  "
      ]
     },
     "execution_count": 35,
     "metadata": {},
     "output_type": "execute_result"
    }
   ],
   "source": [
    "res = pipe(\n",
    "    df.to_dict('records'),\n",
    "    p('headline', lambda x: x.lower()),\n",
    "    p('headline', lambda x: x.upper(), 'lowercased_headline'),\n",
    "    p(['headline', 'nwords'], lambda x,y: len(x.split()) == y, 'nwords_correct'),\n",
    ")\n",
    "\n",
    "pd.DataFrame(res)"
   ]
  },
  {
   "cell_type": "markdown",
   "metadata": {},
   "source": [
    "## jsonlines"
   ]
  },
  {
   "cell_type": "code",
   "execution_count": 3,
   "metadata": {},
   "outputs": [],
   "source": [
    "import jsonlines"
   ]
  },
  {
   "cell_type": "code",
   "execution_count": 40,
   "metadata": {},
   "outputs": [],
   "source": [
    "res = pipe(\n",
    "    jsonlines.open('records.json'),\n",
    "    p('headline', lambda x: x.lower()),\n",
    "    p('headline', lambda x: x.upper(), 'lowercased_headline'),\n",
    "    p(['headline', 'nwords'], lambda x,y: len(x.split()) == y, 'nwords_correct'),\n",
    ")\n",
    "\n",
    "res = list(res)"
   ]
  },
  {
   "cell_type": "code",
   "execution_count": 41,
   "metadata": {},
   "outputs": [
    {
     "data": {
      "text/plain": [
       "[{'headline': 'web ads for junk food could be banned in the uk',\n",
       "  'source': 'Guardian',\n",
       "  'nwords': 11,\n",
       "  'date': None,\n",
       "  'lowercased_headline': 'WEB ADS FOR JUNK FOOD COULD BE BANNED IN THE UK',\n",
       "  'nwords_correct': True},\n",
       " {'headline': 'the olympics will be delayed',\n",
       "  'source': 'Guardian',\n",
       "  'nwords': 5,\n",
       "  'date': None,\n",
       "  'lowercased_headline': 'THE OLYMPICS WILL BE DELAYED',\n",
       "  'nwords_correct': True},\n",
       " {'headline': 'usability of footnotes',\n",
       "  'source': 'https://news.ycombinator.com/item?id=23964200',\n",
       "  'nwords': 10,\n",
       "  'date': '2020-07-28',\n",
       "  'lowercased_headline': 'USABILITY OF FOOTNOTES',\n",
       "  'nwords_correct': False}]"
      ]
     },
     "execution_count": 41,
     "metadata": {},
     "output_type": "execute_result"
    }
   ],
   "source": [
    "res[0:3]"
   ]
  },
  {
   "cell_type": "code",
   "execution_count": null,
   "metadata": {},
   "outputs": [],
   "source": []
  }
 ],
 "metadata": {
  "kernelspec": {
   "display_name": "venv_chunkyp",
   "language": "python",
   "name": "venv_chunkyp"
  },
  "language_info": {
   "codemirror_mode": {
    "name": "ipython",
    "version": 3
   },
   "file_extension": ".py",
   "mimetype": "text/x-python",
   "name": "python",
   "nbconvert_exporter": "python",
   "pygments_lexer": "ipython3",
   "version": "3.7.7"
  }
 },
 "nbformat": 4,
 "nbformat_minor": 4
}
