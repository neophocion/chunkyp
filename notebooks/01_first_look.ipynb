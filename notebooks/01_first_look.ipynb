{
 "cells": [
  {
   "cell_type": "code",
   "execution_count": 2,
   "metadata": {},
   "outputs": [],
   "source": [
    "from chunkyp import pipe, ppipe, p\n",
    "import copy\n",
    "import ray"
   ]
  },
  {
   "cell_type": "markdown",
   "metadata": {},
   "source": [
    "# chunkyp\n",
    "\n",
    "Below is a small example of what chunkyp does. Note:\n",
    "* chunkyp processes **records** (lists of, or iterators across, dictionaries)\n",
    "* records do not have to follow a consistent schema (see the third dictionary in the example below) \n",
    "* chunkyp can run as a single process with **pipe**; it can also be parallelized across cores, and even distributed across machines, with **ppipe**\n",
    "* pipes and ppipes take chains of **p** functions, these are described in a below section"
   ]
  },
  {
   "cell_type": "code",
   "execution_count": 3,
   "metadata": {},
   "outputs": [],
   "source": [
    "records = [\n",
    "    {'headline': 'Web ads for junk food could be banned in the UK', 'source': 'Guardian', 'nwords':11},\n",
    "    {'headline': 'The Olympics will be delayed', 'source': 'Guardian', 'nwords':5},\n",
    "    {'date': '2020-07-28', 'headline': 'Usability of Footnotes', 'source': 'https://news.ycombinator.com/item?id=23964200', 'nwords':10} # different schema from the rest\n",
    "]"
   ]
  },
  {
   "cell_type": "code",
   "execution_count": 4,
   "metadata": {},
   "outputs": [
    {
     "data": {
      "text/plain": [
       "[{'headline': 'web ads for junk food could be banned in the uk',\n",
       "  'source': 'Guardian',\n",
       "  'nwords': 11,\n",
       "  'lowercased_headline': 'WEB ADS FOR JUNK FOOD COULD BE BANNED IN THE UK',\n",
       "  'nwords_correct': True},\n",
       " {'headline': 'the olympics will be delayed',\n",
       "  'source': 'Guardian',\n",
       "  'nwords': 5,\n",
       "  'lowercased_headline': 'THE OLYMPICS WILL BE DELAYED',\n",
       "  'nwords_correct': True},\n",
       " {'date': '2020-07-28',\n",
       "  'headline': 'usability of footnotes',\n",
       "  'source': 'https://news.ycombinator.com/item?id=23964200',\n",
       "  'nwords': 10,\n",
       "  'lowercased_headline': 'USABILITY OF FOOTNOTES',\n",
       "  'nwords_correct': False}]"
      ]
     },
     "execution_count": 4,
     "metadata": {},
     "output_type": "execute_result"
    }
   ],
   "source": [
    "res = pipe(\n",
    "    copy.deepcopy(records), # we pass a copy of records because we will reuse it later\n",
    "    p('headline', lambda x: x.lower()),\n",
    "    p('headline', lambda x: x.upper(), 'lowercased_headline'),\n",
    "    p(['headline', 'nwords'], lambda x,y: len(x.split()) == y, 'nwords_correct'),\n",
    ")\n",
    "\n",
    "res = list(res)\n",
    "res"
   ]
  },
  {
   "cell_type": "markdown",
   "metadata": {},
   "source": [
    "## p functions\n",
    "These are functions which wrap existing functions and point them to:\n",
    "* the input field, or list of fields, in a record to process\n",
    "* the output field, or list of fields, in a record to write, or overwrite, the results to\n",
    "\n",
    "Here's an example:"
   ]
  },
  {
   "cell_type": "code",
   "execution_count": 5,
   "metadata": {},
   "outputs": [
    {
     "data": {
      "text/plain": [
       "[{'headline': 'web ads for junk food could be banned in the uk',\n",
       "  'source': 'Guardian',\n",
       "  'nwords': 11,\n",
       "  'clean_headline': 'WEB ADS JUNK FOOD COULD BE BANNED IN UK',\n",
       "  'nwords_correct': True,\n",
       "  'nchars': 47,\n",
       "  'chars_to_words': 4.2727272727272725},\n",
       " {'headline': 'the olympics will be delayed',\n",
       "  'source': 'Guardian',\n",
       "  'nwords': 5,\n",
       "  'clean_headline': 'OLYMPICS BE DELAYED',\n",
       "  'nwords_correct': True,\n",
       "  'nchars': 28,\n",
       "  'chars_to_words': 5.6},\n",
       " {'date': '2020-07-28',\n",
       "  'headline': 'usability of footnotes',\n",
       "  'source': 'https://news.ycombinator.com/item?id=23964200',\n",
       "  'nwords': 10,\n",
       "  'clean_headline': 'USABILITY FOOTNOTES',\n",
       "  'nwords_correct': False,\n",
       "  'nchars': 22,\n",
       "  'chars_to_words': 2.2}]"
      ]
     },
     "execution_count": 5,
     "metadata": {},
     "output_type": "execute_result"
    }
   ],
   "source": [
    "def remove_words(text: str, words_to_remove: set) -> str:\n",
    "    word_list = text.split()\n",
    "    word_list = [w for w in word_list if w not in words_to_remove]\n",
    "    return ' '.join(word_list)\n",
    "\n",
    "res = pipe(\n",
    "    copy.deepcopy(records),\n",
    "    p('headline', lambda x: x.lower()), # no output field is provided - overwrite the 'headline' field\n",
    "    p('headline', lambda x: x.upper(), 'clean_headline'), # take the headline field, uppercase it, and store in the new 'clean_headline' field\n",
    "    p(['headline', 'nwords'], lambda x,y: len(x.split()) == y, 'nwords_correct'), # take two inputs and store the results in a new field called 'nwords_correct'\n",
    "    p(['headline', 'nwords'], lambda x,y: (len(x), len(x)/int(y) if int(y) > 0 else 0), ['nchars', 'chars_to_words']), # take two inputs and produce two outputs\n",
    "    p('clean_headline', remove_words, words_to_remove={'THE', 'WILL', 'FOR', 'OF'}) # you can pass additional arguments to the wrapped function by passing them as kwargs to the p function\n",
    ")\n",
    "\n",
    "res = list(res)\n",
    "res"
   ]
  },
  {
   "cell_type": "markdown",
   "metadata": {},
   "source": [
    "## pipes and ppipes\n",
    "\n",
    "* **pipes** pass records through p functions on a single core\n",
    "* **ppipes** pass records through p functions on multiple cores using [**ray**](https://github.com/ray-project/ray). In essence, ppipes just launch multiple pipes. \n",
    "\n",
    "We focus on **ppipes** below since the we've already seen two examples of **pipe**. \n",
    "\n",
    "Note:\n",
    "* ppipe syntax is the same as pipe apart from two additional keyword arguments:\n",
    "    * chunksize: the number of records to read into memory and then send off to the parallel pipes - if chunksize > len(records) then deafault to len(records)\n",
    "    * n_pipes: how many parallel pipes to launch (Default: #logical_cores - 1)\n",
    "* ray needs to be initialized before any ppipe is unwound\n",
    "* p functions can handle ray object store references passed to it (see next example)"
   ]
  },
  {
   "cell_type": "code",
   "execution_count": 10,
   "metadata": {},
   "outputs": [
    {
     "name": "stderr",
     "output_type": "stream",
     "text": [
      "2020-08-07 02:28:18,934\tINFO resource_spec.py:212 -- Starting Ray with 28.12 GiB memory available for workers and up to 14.07 GiB for objects. You can adjust these settings with ray.init(memory=<bytes>, object_store_memory=<bytes>).\n",
      "2020-08-07 02:28:19,162\tWARNING services.py:923 -- Redis failed to start, retrying now.\n",
      "2020-08-07 02:28:19,297\tINFO services.py:1165 -- View the Ray dashboard at \u001b[1m\u001b[32mlocalhost:8265\u001b[39m\u001b[22m\n",
      "INFO:root:setting batch_size to 3\n"
     ]
    },
    {
     "data": {
      "text/plain": [
       "[{'headline': 'web ads for junk food could be banned in the uk',\n",
       "  'source': 'Guardian',\n",
       "  'nwords': 11,\n",
       "  'clean_headline': 'WEB ADS FOR JUNK FOOD COULD BE BANNED IN THE UK',\n",
       "  'nwords_correct': True},\n",
       " {'headline': 'the olympics will be delayed',\n",
       "  'source': 'Guardian',\n",
       "  'nwords': 5,\n",
       "  'clean_headline': 'THE OLYMPICS WILL BE DELAYED',\n",
       "  'nwords_correct': True},\n",
       " {'date': '2020-07-28',\n",
       "  'headline': 'usability of footnotes',\n",
       "  'source': 'https://news.ycombinator.com/item?id=23964200',\n",
       "  'nwords': 10,\n",
       "  'clean_headline': 'USABILITY OF FOOTNOTES',\n",
       "  'nwords_correct': False}]"
      ]
     },
     "execution_count": 10,
     "metadata": {},
     "output_type": "execute_result"
    }
   ],
   "source": [
    "ray.shutdown()\n",
    "\n",
    "res = ppipe(\n",
    "    copy.deepcopy(records), # we pass a copy of records because we will reuse it later\n",
    "    p('headline', lambda x: x.lower()),\n",
    "    p('headline', lambda x: x.upper(), 'clean_headline'),\n",
    "    p(['headline', 'nwords'], lambda x,y: len(x.split()) == y, 'nwords_correct'),\n",
    "    chunksize=20\n",
    ")\n",
    "\n",
    "ray.init()\n",
    "\n",
    "res = list(res)\n",
    "ray.shutdown()\n",
    "res"
   ]
  },
  {
   "cell_type": "markdown",
   "metadata": {},
   "source": [
    "ppipe with ray object store:"
   ]
  },
  {
   "cell_type": "code",
   "execution_count": null,
   "metadata": {},
   "outputs": [],
   "source": [
    "ray.shutdown()\n",
    "ray.init()\n",
    "\n",
    "words_to_remove={'THE', 'WILL', 'FOR', 'OF'}\n",
    "\n",
    "w2r = ray.put(words_to_remove)\n",
    "\n",
    "res = ppipe(\n",
    "    copy.deepcopy(records), # we pass a copy of records because we will reuse it later\n",
    "    p('headline', lambda x: x.lower()),\n",
    "    p('headline', lambda x: x.upper(), 'clean_headline'),\n",
    "    p(['headline', 'nwords'], lambda x,y: len(x.split()) == y, 'nwords_correct'),\n",
    "    p('clean_headline', remove_words, words_to_remove=w2r),\n",
    "    batch_size=40\n",
    ")\n",
    "\n",
    "res = list(res)\n",
    "res"
   ]
  }
 ],
 "metadata": {
  "kernelspec": {
   "display_name": "venv_chunkyp",
   "language": "python",
   "name": "venv_chunkyp"
  },
  "language_info": {
   "codemirror_mode": {
    "name": "ipython",
    "version": 3
   },
   "file_extension": ".py",
   "mimetype": "text/x-python",
   "name": "python",
   "nbconvert_exporter": "python",
   "pygments_lexer": "ipython3",
   "version": "3.7.7"
  }
 },
 "nbformat": 4,
 "nbformat_minor": 4
}
